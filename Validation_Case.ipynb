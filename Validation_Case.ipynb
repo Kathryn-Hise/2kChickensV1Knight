{
  "nbformat": 4,
  "nbformat_minor": 0,
  "metadata": {
    "colab": {
      "provenance": [],
      "authorship_tag": "ABX9TyOdTEVuhx4vcUJ0aaWknD6H",
      "include_colab_link": true
    },
    "kernelspec": {
      "name": "python3",
      "display_name": "Python 3"
    },
    "language_info": {
      "name": "python"
    }
  },
  "cells": [
    {
      "cell_type": "markdown",
      "metadata": {
        "id": "view-in-github",
        "colab_type": "text"
      },
      "source": [
        "<a href=\"https://colab.research.google.com/github/Kathryn-Hise/2kChickensV1Knight/blob/main/Validation_Case.ipynb\" target=\"_parent\"><img src=\"https://colab.research.google.com/assets/colab-badge.svg\" alt=\"Open In Colab\"/></a>"
      ]
    },
    {
      "cell_type": "markdown",
      "source": [
        "# Validation Case for known battle results"
      ],
      "metadata": {
        "id": "dJw8hYDUuzKI"
      }
    },
    {
      "cell_type": "code",
      "execution_count": 4,
      "metadata": {
        "id": "jLTnJYtduw43"
      },
      "outputs": [],
      "source": [
        "import numpy as np\n",
        "import matplotlib.pyplot as plt"
      ]
    },
    {
      "cell_type": "code",
      "source": [
        "#Battle of Chelsea Creek\n",
        "Amer0 = 450\n",
        "Brits0 = 850\n",
        "AmerFinal = Amer0 - 4\n",
        "BritFinal = Brits0 - (32+2)\n",
        "timeend = 24 #hours\n",
        "\n",
        "def Lanchester(initialvec):\n",
        "  #first is Am, second is british\n",
        "  pop = initialvec[0] \n",
        "  rate = initialvec[1]\n",
        "  return [-k1*pop]\n",
        "\n",
        "def known_end_event():\n",
        "  #something\n",
        "\n"
      ],
      "metadata": {
        "id": "UKRkUPG7v6mF"
      },
      "execution_count": 3,
      "outputs": []
    }
  ]
}